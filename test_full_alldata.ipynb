{
 "cells": [
  {
   "cell_type": "code",
   "execution_count": 31,
   "metadata": {},
   "outputs": [],
   "source": [
    "from plot_utils import set_size, tex_fonts, LINEWIDTH_L_CSS as linewidth\n",
    "import pickle\n",
    "import scipy\n",
    "from pathlib import Path\n",
    "import jax.numpy as jnp\n",
    "import numpy as onp\n",
    "import matplotlib.pyplot as plt\n",
    "import jax\n",
    "from neuralss import ss_init, ss_apply\n",
    "import nonlinear_benchmarks"
   ]
  },
  {
   "cell_type": "code",
   "execution_count": 32,
   "metadata": {},
   "outputs": [],
   "source": [
    "from argparse import Namespace\n",
    "\n",
    "cfg = {\n",
    "    \"nu\": 1,\n",
    "    \"ny\": 1,\n",
    "    \"nx\": 3,\n",
    "    \"hidden_f\": 16,\n",
    "    \"hidden_g\": 16,\n",
    "    \"skip_loss\": 500,\n",
    "}\n",
    "cfg = Namespace(**cfg)\n",
    "\n",
    "scalers = {\"f\": {\"lin\": 1e-2, \"nl\": 1e-2}, \"g\": {\"lin\": 1e0, \"nl\": 1e0}}"
   ]
  },
  {
   "cell_type": "code",
   "execution_count": 33,
   "metadata": {},
   "outputs": [],
   "source": [
    "#plt.rcParams.update(tex_fonts) # use latex fonts\n",
    "plt.rcParams.update({\"axes.grid\": True}) "
   ]
  },
  {
   "cell_type": "code",
   "execution_count": 34,
   "metadata": {},
   "outputs": [],
   "source": [
    "%matplotlib widget"
   ]
  },
  {
   "cell_type": "code",
   "execution_count": 35,
   "metadata": {},
   "outputs": [],
   "source": [
    "jax.config.update(\"jax_enable_x64\", True)\n",
    "jax.config.update(\"jax_default_device\", jax.devices(\"cpu\")[0])"
   ]
  },
  {
   "cell_type": "code",
   "execution_count": 36,
   "metadata": {},
   "outputs": [],
   "source": [
    "filename = Path(\"out\") / \"full_alldata.pkl\" \n",
    "ckpt = pickle.load(open(filename, \"rb\"))\n"
   ]
  },
  {
   "cell_type": "code",
   "execution_count": 37,
   "metadata": {},
   "outputs": [],
   "source": [
    "data_folder = \"bwdataset\"\n",
    "data_folder = Path(data_folder)\n",
    "\n",
    "u2 = scipy.io.loadmat(data_folder / \"uval_multisine.mat\")[\"uval_multisine\"].reshape(-1, 1)\n",
    "y2 = scipy.io.loadmat(data_folder / \"yval_multisine.mat\")[\"yval_multisine\"].reshape(-1, 1)\n",
    "\n",
    "u2 = u2 / 50.0\n",
    "y2 = y2 / 7e-4"
   ]
  },
  {
   "cell_type": "code",
   "execution_count": null,
   "metadata": {},
   "outputs": [],
   "source": [
    "x0 = jnp.zeros((cfg.nx, ))\n",
    "y2_hat = ss_apply(ckpt[\"params\"], scalers, x0, u2)\n",
    "#y2_hat = ss_apply(opt_vars_adam[\"params\"], scalers, x0, u2)\n",
    "plt.figure()\n",
    "plt.plot(y2, \"k\", label=\"true\")\n",
    "plt.plot(y2_hat, \"b\", label=\"reconstructed\")\n",
    "plt.plot(y2 - y2_hat, \"r\", label=\"reconstruction error\")\n",
    "plt.axvline(cfg.skip_loss, color=\"k\")\n",
    "plt.ylim([-4, 4]);"
   ]
  },
  {
   "cell_type": "code",
   "execution_count": null,
   "metadata": {},
   "outputs": [],
   "source": [
    "fit_full = nonlinear_benchmarks.error_metrics.fit_index(y2[cfg.skip_loss:], y2_hat[cfg.skip_loss:])\n",
    "rmse_full = nonlinear_benchmarks.error_metrics.RMSE(y2[cfg.skip_loss:], y2_hat[cfg.skip_loss:])*7e-4 * 1e5\n",
    "fit_full, rmse_full # (Array([98.54584449], dtype=float64), array([0.96720211]))\n",
    "print(f\"Fit index: {fit_full[0]:.2f} %\")\n",
    "print(f\"RMSE: {rmse_full[0]:.2f}e-5\")"
   ]
  },
  {
   "cell_type": "code",
   "execution_count": 40,
   "metadata": {},
   "outputs": [],
   "source": [
    "#w, v = onp.linalg.eigh(onp.array(data[\"H\"]))#[:-3, :-3])\n",
    "w, v = jnp.linalg.eigh(ckpt[\"H\"][:-3, :-3])#[:-3, :-3])\n",
    "w, v = jnp.linalg.eigh(ckpt[\"H\"])\n",
    "w = w[::-1] # eigvals\n",
    "v = v[:, ::-1] # eigvecs"
   ]
  },
  {
   "cell_type": "code",
   "execution_count": null,
   "metadata": {},
   "outputs": [],
   "source": [
    "fig, ax = plt.subplots(1, 1, figsize=set_size(linewidth, fraction=1.0))\n",
    "#plt.title(\"Hessian eigenvalues\")\n",
    "plt.plot(w[1:], \"k*\")\n",
    "plt.xlabel(\"Eigenvalue index\")\n",
    "plt.ylabel(\"Eigenvalue\")\n",
    "plt.tight_layout()\n",
    "plt.savefig(\"hessian_eigenvalues.pdf\")\n"
   ]
  }
 ],
 "metadata": {
  "kernelspec": {
   "display_name": "Python 3",
   "language": "python",
   "name": "python3"
  },
  "language_info": {
   "codemirror_mode": {
    "name": "ipython",
    "version": 3
   },
   "file_extension": ".py",
   "mimetype": "text/x-python",
   "name": "python",
   "nbconvert_exporter": "python",
   "pygments_lexer": "ipython3",
   "version": "3.10.12"
  }
 },
 "nbformat": 4,
 "nbformat_minor": 2
}
