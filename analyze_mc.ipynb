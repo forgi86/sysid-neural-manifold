{
 "cells": [
  {
   "cell_type": "code",
   "execution_count": null,
   "metadata": {},
   "outputs": [],
   "source": [
    "from pathlib import Path\n",
    "import pandas as pd\n",
    "import seaborn as sns\n",
    "import matplotlib.pyplot as plt\n",
    "import numpy as np"
   ]
  },
  {
   "cell_type": "code",
   "execution_count": null,
   "metadata": {},
   "outputs": [],
   "source": [
    "#df_mc = pd.read_pickle(Path(\"out\") / \"df_mc_adam_bfgs.pkl\")\n",
    "#df_mc = pd.read_pickle(Path(\"out\") / \"df_mc_adam_bfgs_above_1000.pkl\")\n",
    "df_full = pd.read_pickle(Path(\"out\") / \"df_mc_full.pkl\")\n",
    "df_red = pd.read_pickle(Path(\"out\") / \"df_mc_hypernet.pkl\")\n",
    "df_mc = pd.concat((df_full, df_red), ignore_index=True)\n",
    "\n",
    "df_full_time = pd.read_pickle(Path(\"out\") / \"df_mc_full_time.pkl\")"
   ]
  },
  {
   "cell_type": "code",
   "execution_count": null,
   "metadata": {},
   "outputs": [],
   "source": [
    "rms_y = 66.69 # 1e5 rmse of y \n",
    "fit_lin = 77.17 # fit of a linear baseline obtained with MATLAB's sysid toolbox\n",
    "rmse_lin = (1 - fit_lin/100.0) * rms_y # rmse of a linear baseline\n",
    "rmse_lin/1e5"
   ]
  },
  {
   "cell_type": "code",
   "execution_count": null,
   "metadata": {},
   "outputs": [],
   "source": [
    "df_mc[\"length\"] = df_mc[\"length\"].astype(int)\n",
    "df_mc[\"fit\"] = np.maximum(df_mc[\"fit\"], 0.0)\n",
    "\n",
    "df_mc[\"rmse\"] = (1 - df_mc[\"fit\"]/100.0) * rms_y\n",
    "#df_mc = df_mc[df_mc.length < 2500]\n",
    "df_mc = df_mc[df_mc.model != \"full (adam)\"]\n",
    "#df_mc = df_mc[df_mc.model != \"full\"]\n",
    "df_mc[\"model\"] = df_mc[\"model\"].str.replace(\"full (bfgs)\", \"full\")"
   ]
  },
  {
   "cell_type": "code",
   "execution_count": null,
   "metadata": {},
   "outputs": [],
   "source": [
    "model_labels = {\n",
    "    \"full\": \"full parameterization\",\n",
    "    \"reduced\": \"reduced parameterization\",\n",
    "    # Add more mappings as needed\n",
    "}\n",
    "model_order = [\"full\", \"reduced\"]\n",
    "\n",
    "plt.figure(figsize=(8, 4))\n",
    "ax = sns.boxplot(df_mc, x=\"length\", y=\"fit\", hue=\"model\")#, hue_order=[\"full\", \"reduced\"])\n",
    "plt.tight_layout()  # This adjusts the plot to ensure the legend fits\n",
    "plt.xticks(rotation=45)\n",
    "ax.set_xlabel(\"Training sequence length (-)\")\n",
    "ax.set_ylabel(\"Test FIT (%)\")\n",
    "ax.axhline(y=fit_lin, color=\"black\", linestyle=\"dashed\", alpha=0.5, label=\"linear baseline\")\n",
    "#plt.legend(bbox_to_anchor=(1.05, 1), loc='upper left', borderaxespad=0)\n",
    "plt.legend(loc='lower right')#, borderaxespad=0)\n",
    "plt.ylim([-5, 100])\n",
    "plt.tight_layout()\n",
    "#plt.savefig(Path(\"fig\")/\"boxplot.pdf\")\n",
    "#plt.savefig(Path(\"fig\")/\"boxplot.png\")"
   ]
  },
  {
   "cell_type": "code",
   "execution_count": null,
   "metadata": {},
   "outputs": [],
   "source": [
    "plt.figure()\n",
    "plt.title(\"Training time (hours)\")\n",
    "plt.plot(df_full_time.length, df_full_time.time/60/24, \"*\", label=\"full (adam + BFGS)\")\n",
    "#plt.plot(df_full_time.length, df_full_time.time_adam/60/24, \"*\", label=\"full (adam)\")\n",
    "plt.xlabel(\"Training sequence length (-)\")\n",
    "plt.ylabel(\"Time (hours)\")\n",
    "plt.legend();"
   ]
  },
  {
   "cell_type": "code",
   "execution_count": null,
   "metadata": {},
   "outputs": [],
   "source": [
    "df_stats = df_mc.groupby([\"model\", \"length\"]).agg([\"mean\", \"median\", \"std\"])"
   ]
  },
  {
   "cell_type": "code",
   "execution_count": null,
   "metadata": {},
   "outputs": [],
   "source": [
    "plt.figure()\n",
    "#plt.plot(df_stats.loc[\"full\"][\"fit\"][\"mean\"])\n",
    "plt.fill_between(df_stats.loc[\"full\"][\"fit\"][\"mean\"].index, df_stats.loc[\"full\"][\"fit\"][\"mean\"] - df_stats.loc[\"full\"][\"fit\"][\"std\"], df_stats.loc[\"full\"][\"fit\"][\"mean\"] + df_stats.loc[\"full\"][\"fit\"][\"std\"], alpha=0.3)\n",
    "plt.fill_between(df_stats.loc[\"reduced\"][\"fit\"][\"mean\"].index, df_stats.loc[\"reduced\"][\"fit\"][\"mean\"] - df_stats.loc[\"reduced\"][\"fit\"][\"std\"], df_stats.loc[\"reduced\"][\"fit\"][\"mean\"] + df_stats.loc[\"reduced\"][\"fit\"][\"std\"], alpha=0.3)\n",
    "\n",
    "#plt.plot(df_stats.loc[\"reduced\"][\"fit\"][\"mean\"])"
   ]
  }
 ],
 "metadata": {
  "kernelspec": {
   "display_name": "Python 3",
   "language": "python",
   "name": "python3"
  },
  "language_info": {
   "codemirror_mode": {
    "name": "ipython",
    "version": 3
   },
   "file_extension": ".py",
   "mimetype": "text/x-python",
   "name": "python",
   "nbconvert_exporter": "python",
   "pygments_lexer": "ipython3",
   "version": "3.10.12"
  }
 },
 "nbformat": 4,
 "nbformat_minor": 2
}
