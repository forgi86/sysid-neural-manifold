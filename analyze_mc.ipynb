{
 "cells": [
  {
   "cell_type": "code",
   "execution_count": null,
   "metadata": {},
   "outputs": [],
   "source": [
    "from pathlib import Path\n",
    "import pickle\n",
    "import pandas as pd\n",
    "import seaborn as sns\n",
    "import matplotlib.pyplot as plt\n",
    "import numpy as np"
   ]
  },
  {
   "cell_type": "code",
   "execution_count": null,
   "metadata": {},
   "outputs": [],
   "source": [
    "tex_fonts = {\n",
    "    \n",
    "    # Use LaTeX to write all text\n",
    "   \"text.usetex\": True,\n",
    "   \"font.family\": \"serif\",\n",
    "    # Use 10pt font in plots, to match 10pt font in document\n",
    "   \"axes.labelsize\": 14,\n",
    "   \"font.size\": 14,\n",
    "\n",
    "   \"legend.fontsize\": 12,\n",
    "   \"xtick.labelsize\": 12,\n",
    "   \"ytick.labelsize\": 12\n",
    "}"
   ]
  },
  {
   "cell_type": "code",
   "execution_count": null,
   "metadata": {},
   "outputs": [],
   "source": [
    "plt.rcParams.update(tex_fonts) # use latex fonts"
   ]
  },
  {
   "cell_type": "code",
   "execution_count": null,
   "metadata": {},
   "outputs": [],
   "source": [
    "out = Path(\"out\")\n",
    "\n",
    "fig_dir = Path(\"fig\")\n",
    "fig_dir.mkdir(exist_ok=True)"
   ]
  },
  {
   "cell_type": "code",
   "execution_count": null,
   "metadata": {},
   "outputs": [],
   "source": [
    "# MAML meta-learning 10 inner SGD steps, actual training with 10 sgd steps\n",
    "ckpt_maml_10s = pickle.load(open(out / \"mc_maml_10_aligned.p\", \"rb\"))\n",
    "df_maml_10s = pd.DataFrame(ckpt_maml_10s[\"fit\"].T, columns=[str(l) for l in ckpt_maml_10s[\"train_lens\"]])\n",
    "df_maml_10s = df_maml_10s.melt(var_name=\"length\", value_name=\"fit\")\n",
    "df_maml_10s.insert(0, \"model\", \"maml_10s\")"
   ]
  },
  {
   "cell_type": "code",
   "execution_count": null,
   "metadata": {},
   "outputs": [],
   "source": [
    "# MAML meta-learning 10 inner SGD steps, actual training with 10000 adamw steps\n",
    "ckpt_maml_10000a = pickle.load(open(out / \"mc_maml_10_10000a.p\", \"rb\"))\n",
    "df_maml_10000a = pd.DataFrame(ckpt_maml_10000a[\"fit\"].T, columns=[str(l) for l in ckpt_maml_10000a[\"train_lens\"]])\n",
    "df_maml_10000a = df_maml_10000a.melt(var_name=\"length\", value_name=\"fit\")\n",
    "df_maml_10000a.insert(0, \"model\", \"maml_10000a\")"
   ]
  },
  {
   "cell_type": "code",
   "execution_count": null,
   "metadata": {},
   "outputs": [],
   "source": [
    "ckpt_red_20 = pickle.load(open(out / \"mc_red.p\", \"rb\"))\n",
    "df_red_20 = pd.DataFrame(ckpt_red_20[\"fit\"].T, columns=[str(l) for l in ckpt_red_20[\"train_lens\"]])\n",
    "df_red_20 = df_red_20.melt(var_name=\"length\", value_name=\"fit\")\n",
    "df_red_20.insert(0, \"model\", \"reduced 20\")"
   ]
  },
  {
   "cell_type": "code",
   "execution_count": null,
   "metadata": {},
   "outputs": [],
   "source": [
    "ckpt_red_10 = pickle.load(open(out / \"mc_red_10.p\", \"rb\"))\n",
    "df_red_10 = pd.DataFrame(ckpt_red_10[\"fit\"].T, columns=[str(l) for l in ckpt_red_10[\"train_lens\"]])\n",
    "df_red_10 = df_red_10.melt(var_name=\"length\", value_name=\"fit\")\n",
    "df_red_10.insert(0, \"model\", \"reduced 10\")"
   ]
  },
  {
   "cell_type": "code",
   "execution_count": null,
   "metadata": {},
   "outputs": [],
   "source": [
    "ckpt_full = pickle.load(open(out / \"mc_full.p\", \"rb\"))\n",
    "df_full = pd.DataFrame(ckpt_full[\"fit_bfgs\"].T, columns=[str(l) for l in ckpt_full[\"train_lens\"]])\n",
    "df_full = df_full.melt(var_name=\"length\", value_name=\"fit\")"
   ]
  },
  {
   "cell_type": "code",
   "execution_count": null,
   "metadata": {},
   "outputs": [],
   "source": [
    "ckpt_full = pickle.load(open(out / \"mc_full.p\", \"rb\"))\n",
    "\n",
    "df_full = pd.DataFrame(ckpt_full[\"fit_bfgs\"].T, columns=[str(l) for l in ckpt_full[\"train_lens\"]])\n",
    "df_full = df_full.melt(var_name=\"length\", value_name=\"fit\")\n",
    "df_full.insert(0, \"model\", \"full (bfgs)\")"
   ]
  },
  {
   "cell_type": "code",
   "execution_count": null,
   "metadata": {},
   "outputs": [],
   "source": [
    "df_mc = pd.concat((df_red_20, df_red_10, df_full, df_maml_10s, df_maml_10000a), ignore_index=True)"
   ]
  },
  {
   "cell_type": "code",
   "execution_count": null,
   "metadata": {},
   "outputs": [],
   "source": [
    "rms_y = 66.69 # 1e5 rmse of y \n",
    "fit_lin = 77.17 # fit of a linear baseline obtained with MATLAB's sysid toolbox\n",
    "rmse_lin = (1 - fit_lin/100.0) * rms_y # rmse of a linear baseline\n",
    "rmse_lin/1e5"
   ]
  },
  {
   "cell_type": "code",
   "execution_count": null,
   "metadata": {},
   "outputs": [],
   "source": [
    "df_mc[\"fit\"] = np.maximum(df_mc[\"fit\"], 0.0)\n",
    "df_mc[\"rmse\"] = (1 - df_mc[\"fit\"]/100.0) * rms_y"
   ]
  },
  {
   "cell_type": "code",
   "execution_count": null,
   "metadata": {},
   "outputs": [],
   "source": [
    "df_mc = df_mc[df_mc[\"length\"].isin([\"100\", \"200\", \"400\", \"500\", \"600\", \"800\", \"1000\", \"2000\", \"3000\", \"4000\", \"5000\"])]\n",
    "df_mc[\"length\"] = df_mc[\"length\"].astype(int)\n",
    "df_mc.sort_values(by=[\"model\", \"length\"], inplace=True)"
   ]
  },
  {
   "cell_type": "code",
   "execution_count": null,
   "metadata": {},
   "outputs": [],
   "source": [
    "model_labels = {\n",
    "    \"full (bfgs)\": r\"Full-order\",\n",
    "#    \"full (adam)\": r\"Full-order adam\",\n",
    "    \"reduced 20\": r\"Reduced-order, $n_\\phi$ = 20\",\n",
    "    \"reduced 10\": r\"Reduced-order, $n_\\phi$ = 10\",\n",
    "    \"maml_10s\": r\"Full-order, 10 SGD steps from MAML initialization\",\n",
    "    \"maml_10000a\": r\"Full-order, 10K Adamw steps from MAML initialization\"\n",
    "}\n",
    "\n",
    "show_lens = [100, 200, 400, 600, 800, 1_000, 2000, 3000, 5000]\n",
    "\n",
    "linewidth = 251.8068\n",
    "#fig, ax = plt.subplots(1, 1, figsize=(8, 4))\n",
    "fig, ax = plt.subplots(1, 1, figsize=(8, 4))\n",
    "ax = sns.boxplot(df_mc.where(df_mc[\"length\"].isin(show_lens)), x=\"length\", y=\"fit\", hue=df_mc[\"model\"].map(model_labels), hue_order=model_labels.values(), ax=ax)\n",
    "#ax = sns.boxplot(df_mc, x=\"length\", y=\"fit\", hue=df_mc[\"model\"], hue_order=[\"full\", \"reduced 20\", \"reduced 10\"])\n",
    "ax.axhline(y=98.9, color=\"black\", linestyle=\"dashed\", alpha=0.5, label=\"Full-order 40960 samples\")#, linewidth=0.5)\n",
    "ax.axhline(y=fit_lin, color=\"black\", linestyle=\"dotted\", alpha=0.5, label=\"LTI 40960 samples\")#, linewidth=0.5)\n",
    "\n",
    "plt.tight_layout()  # This adjusts the plot to ensure the legend fits\n",
    "plt.xticks(rotation=45)\n",
    "ax.set_xlabel(r\"Training sequence length (-)\")\n",
    "ax.set_ylabel(r\"Test FIT (\\%)\")\n",
    "#plt.legend(bbox_to_anchor=(1.05, 1), loc='upper left', borderaxespad=0)\n",
    "plt.legend(loc='lower right', bbox_to_anchor=(1, 0.1))#, borderaxespad=0)\n",
    "plt.ylim([-5, 100])\n",
    "plt.tight_layout()\n",
    "\n",
    "plt.savefig(fig_dir/\"boxplot_paper.pdf\")"
   ]
  },
  {
   "cell_type": "code",
   "execution_count": null,
   "metadata": {},
   "outputs": [],
   "source": [
    "model_labels = {\n",
    "    \"full (bfgs)\": r\"Full-order, training standard initialization\",\n",
    "#    \"full (adam)\": r\"Full-order adam\",\n",
    "    \"reduced 20\": r\"Reduced-order, $n_\\phi$ = 20\",\n",
    "    \"reduced 10\": r\"Reduced-order, $n_\\phi$ = 10\",\n",
    "    \"maml_10s\": r\"Full-order, MAML initialization + 10 SGD steps\",\n",
    "    \"maml_10000a\": r\"Full-order, MAML initialization + 10K AdamW steps\"\n",
    "}\n",
    "\n",
    "linewidth = 251.8068\n",
    "#fig, ax = plt.subplots(1, 1, figsize=(8, 4))\n",
    "fig, ax = plt.subplots(1, 1, figsize=(12, 4))\n",
    "ax = sns.boxplot(df_mc, x=\"length\", y=\"fit\", hue=df_mc[\"model\"].map(model_labels), hue_order=model_labels.values(), ax=ax)\n",
    "#ax = sns.boxplot(df_mc, x=\"length\", y=\"fit\", hue=df_mc[\"model\"], hue_order=[\"full\", \"reduced 20\", \"reduced 10\"])\n",
    "ax.axhline(y=98.9, color=\"black\", linestyle=\"dashed\", alpha=0.5, label=\"Full-order 40960 samples\")#, linewidth=0.5)\n",
    "ax.axhline(y=fit_lin, color=\"black\", linestyle=\"dotted\", alpha=0.5, label=\"LTI 40960 samples\")#, linewidth=0.5)\n",
    "\n",
    "plt.tight_layout()  # This adjusts the plot to ensure the legend fits\n",
    "plt.xticks(rotation=45)\n",
    "ax.set_xlabel(r\"Training sequence length (-)\")\n",
    "ax.set_ylabel(r\"Test FIT (\\%)\")\n",
    "#plt.legend(bbox_to_anchor=(1.05, 1), loc='upper left', borderaxespad=0)\n",
    "plt.legend(loc='lower right', bbox_to_anchor=(1, 0.1))#, borderaxespad=0)\n",
    "plt.ylim([-5, 100])\n",
    "plt.tight_layout()\n",
    "\n",
    "plt.savefig(fig_dir/\"boxplot_paper.pdf\")"
   ]
  },
  {
   "cell_type": "code",
   "execution_count": null,
   "metadata": {},
   "outputs": [],
   "source": [
    "df_stats = df_mc.groupby([\"model\", \"length\"]).agg([\"mean\", \"median\", \"std\"])\n",
    "df_stats"
   ]
  },
  {
   "cell_type": "code",
   "execution_count": null,
   "metadata": {},
   "outputs": [],
   "source": [
    "#df_mc.groupby([\"model\", \"length\"]).median() # median performance\n",
    "#df_mc[df_mc[\"fit\"] < 1.0].groupby([\"model\", \"length\"]).count() # failing BFGS runs"
   ]
  },
  {
   "cell_type": "code",
   "execution_count": null,
   "metadata": {},
   "outputs": [],
   "source": [
    "# computational time\n",
    "plt.figure(figsize=(6,3))\n",
    "#plt.title(\"Training time\")\n",
    "plt.plot(ckpt_full[\"train_lens\"], ckpt_full[\"train_time\"], label=\"Full-order (40000 AdamW + 10000 BFGS)\", marker=\"s\", color=\"C0\")\n",
    "plt.plot(ckpt_full[\"train_lens\"], ckpt_full[\"train_time_adam\"], label=\"Full-order (40000 AdamW)\", marker=\"v\", linestyle=\"--\", color=\"C0\")\n",
    "plt.plot(ckpt_red_20[\"train_lens\"], ckpt_red_20[\"train_time\"], label=r\"Reduced-order, $n_\\phi=20$ (10000 AdamW)\", marker=\"o\", color=\"C1\")\n",
    "plt.xlabel(\"Training sequence length (-)\")\n",
    "plt.ylabel(\"Training time (s)\")\n",
    "plt.grid(True)\n",
    "plt.legend();\n",
    "plt.tight_layout()\n",
    "plt.savefig(fig_dir/\"training_times_paper.pdf\")"
   ]
  }
 ],
 "metadata": {
  "kernelspec": {
   "display_name": "Python 3",
   "language": "python",
   "name": "python3"
  },
  "language_info": {
   "codemirror_mode": {
    "name": "ipython",
    "version": 3
   },
   "file_extension": ".py",
   "mimetype": "text/x-python",
   "name": "python",
   "nbconvert_exporter": "python",
   "pygments_lexer": "ipython3",
   "version": "3.10.12"
  }
 },
 "nbformat": 4,
 "nbformat_minor": 2
}
