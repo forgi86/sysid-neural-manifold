{
 "cells": [
  {
   "cell_type": "code",
   "execution_count": null,
   "metadata": {},
   "outputs": [],
   "source": [
    "from pathlib import Path\n",
    "import pickle\n",
    "import pandas as pd\n",
    "import seaborn as sns\n",
    "import matplotlib.pyplot as plt\n",
    "import numpy as np"
   ]
  },
  {
   "cell_type": "code",
   "execution_count": null,
   "metadata": {},
   "outputs": [],
   "source": [
    "out = Path(\"out\")"
   ]
  },
  {
   "cell_type": "code",
   "execution_count": null,
   "metadata": {},
   "outputs": [],
   "source": [
    "ckpt_red_20 = pickle.load(open(out / \"mc_red.p\", \"rb\"))\n",
    "df_red_20 = pd.DataFrame(ckpt_red_20[\"fit\"].T, columns=[str(l) for l in ckpt_red_20[\"train_lens\"]])\n",
    "df_red_20 = df_red_20.melt(var_name=\"length\", value_name=\"fit\")\n",
    "df_red_20.insert(0, \"model\", \"reduced 20\")"
   ]
  },
  {
   "cell_type": "code",
   "execution_count": null,
   "metadata": {},
   "outputs": [],
   "source": [
    "ckpt_red_10 = pickle.load(open(out / \"mc_red_10.p\", \"rb\"))\n",
    "df_red_10 = pd.DataFrame(ckpt_red_10[\"fit\"].T, columns=[str(l) for l in ckpt_red_10[\"train_lens\"]])\n",
    "df_red_10 = df_red_10.melt(var_name=\"length\", value_name=\"fit\")\n",
    "df_red_10.insert(0, \"model\", \"reduced 10\")"
   ]
  },
  {
   "cell_type": "code",
   "execution_count": null,
   "metadata": {},
   "outputs": [],
   "source": [
    "ckpt_full = pickle.load(open(out / \"mc_full.p\", \"rb\"))\n",
    "\n",
    "df_full = pd.DataFrame(ckpt_full[\"fit_bfgs\"].T, columns=[str(l) for l in ckpt_full[\"train_lens\"]])\n",
    "df_full = df_full.melt(var_name=\"length\", value_name=\"fit\")\n",
    "df_full.insert(0, \"model\", \"full\")"
   ]
  },
  {
   "cell_type": "code",
   "execution_count": null,
   "metadata": {},
   "outputs": [],
   "source": [
    "df_mc = pd.concat((df_red_20, df_red_10, df_full), ignore_index=True)"
   ]
  },
  {
   "cell_type": "code",
   "execution_count": null,
   "metadata": {},
   "outputs": [],
   "source": [
    "rms_y = 66.69 # 1e5 rmse of y \n",
    "fit_lin = 77.17 # fit of a linear baseline obtained with MATLAB's sysid toolbox\n",
    "rmse_lin = (1 - fit_lin/100.0) * rms_y # rmse of a linear baseline\n",
    "rmse_lin/1e5"
   ]
  },
  {
   "cell_type": "code",
   "execution_count": null,
   "metadata": {},
   "outputs": [],
   "source": [
    "df_mc[\"fit\"] = np.maximum(df_mc[\"fit\"], 0.0)\n",
    "df_mc[\"rmse\"] = (1 - df_mc[\"fit\"]/100.0) * rms_y"
   ]
  },
  {
   "cell_type": "code",
   "execution_count": null,
   "metadata": {},
   "outputs": [],
   "source": [
    "df_mc = df_mc[df_mc[\"length\"].isin([\"100\", \"200\", \"400\", \"600\", \"800\", \"1000\", \"2000\", \"3000\", \"4000\", \"5000\"])]"
   ]
  },
  {
   "cell_type": "code",
   "execution_count": null,
   "metadata": {},
   "outputs": [],
   "source": [
    "model_labels = {\n",
    "    \"full\": \"full-order\",\n",
    "    \"reduced 10\": \"reduced, $n_\\phi$ = 10\",\n",
    "    \"reduced 20\": \"reduced, $n_\\phi$ = 20\",\n",
    "    # Add more mappings as needed\n",
    "}\n",
    "model_order = [\"full\", \"reduced\"]\n",
    "\n",
    "plt.figure(figsize=(8, 4))\n",
    "ax = sns.boxplot(df_mc, x=\"length\", y=\"fit\", hue=df_mc[\"model\"].map(model_labels), hue_order=[\"full-order\", \"reduced, $n_\\phi$ = 20\", \"reduced, $n_\\phi$ = 10\"])\n",
    "#ax = sns.boxplot(df_mc, x=\"length\", y=\"fit\", hue=df_mc[\"model\"], hue_order=[\"full\", \"reduced 20\", \"reduced 10\"])\n",
    "plt.tight_layout()  # This adjusts the plot to ensure the legend fits\n",
    "plt.xticks(rotation=45)\n",
    "ax.set_xlabel(\"Training sequence length (-)\")\n",
    "ax.set_ylabel(\"Test FIT (%)\")\n",
    "ax.axhline(y=fit_lin, color=\"black\", linestyle=\"dotted\", alpha=0.5, label=\"LTI 40960 samples\")#, linewidth=0.5)\n",
    "ax.axhline(y=98.9, color=\"black\", linestyle=\"dashed\", alpha=0.5, label=\"Full-order 40960 samples\")#, linewidth=0.5)\n",
    "#plt.legend(bbox_to_anchor=(1.05, 1), loc='upper left', borderaxespad=0)\n",
    "plt.legend(loc='lower right')#, borderaxespad=0)\n",
    "plt.ylim([-5, 100])\n",
    "plt.tight_layout()\n",
    "plt.savefig(Path(\"fig\")/\"boxplot.pdf\")"
   ]
  },
  {
   "cell_type": "code",
   "execution_count": null,
   "metadata": {},
   "outputs": [],
   "source": [
    "df_stats = df_mc.groupby([\"model\", \"length\"]).agg([\"mean\", \"median\", \"std\"])\n",
    "df_stats"
   ]
  },
  {
   "cell_type": "code",
   "execution_count": null,
   "metadata": {},
   "outputs": [],
   "source": [
    "plt.figure()\n",
    "#plt.plot(df_stats.loc[\"full\"][\"fit\"][\"mean\"])\n",
    "#plt.fill_between(df_stats.loc[\"full\"][\"fit\"][\"mean\"].index, df_stats.loc[\"full\"][\"fit\"][\"mean\"] - df_stats.loc[\"full\"][\"fit\"][\"std\"], df_stats.loc[\"full\"][\"fit\"][\"mean\"] + df_stats.loc[\"full\"][\"fit\"][\"std\"], alpha=0.3)\n",
    "#plt.fill_between(df_stats.loc[\"reduced\"][\"fit\"][\"mean\"].index, df_stats.loc[\"reduced\"][\"fit\"][\"mean\"] - df_stats.loc[\"reduced\"][\"fit\"][\"std\"], df_stats.loc[\"reduced\"][\"fit\"][\"mean\"] + df_stats.loc[\"reduced\"][\"fit\"][\"std\"], alpha=0.3)\n",
    "\n",
    "#plt.plot(df_stats.loc[\"reduced\"][\"fit\"][\"mean\"])"
   ]
  }
 ],
 "metadata": {
  "kernelspec": {
   "display_name": "Python 3",
   "language": "python",
   "name": "python3"
  },
  "language_info": {
   "codemirror_mode": {
    "name": "ipython",
    "version": 3
   },
   "file_extension": ".py",
   "mimetype": "text/x-python",
   "name": "python",
   "nbconvert_exporter": "python",
   "pygments_lexer": "ipython3",
   "version": "3.10.12"
  }
 },
 "nbformat": 4,
 "nbformat_minor": 2
}
