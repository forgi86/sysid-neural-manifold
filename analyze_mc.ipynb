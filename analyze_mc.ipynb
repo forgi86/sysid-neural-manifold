{
 "cells": [
  {
   "cell_type": "code",
   "execution_count": null,
   "metadata": {},
   "outputs": [],
   "source": [
    "from pathlib import Path\n",
    "import pickle\n",
    "import pandas as pd\n",
    "import seaborn as sns\n",
    "import matplotlib.pyplot as plt\n",
    "import numpy as np"
   ]
  },
  {
   "cell_type": "code",
   "execution_count": null,
   "metadata": {},
   "outputs": [],
   "source": [
    "out = Path(\"out\")\n",
    "\n",
    "ckpt_red = pickle.load(open(out / \"mc_red.p\", \"rb\"))\n",
    "df_red = pd.DataFrame(ckpt_red[\"fit\"].T, columns=[str(l) for l in ckpt_red[\"train_lens\"]])\n",
    "df_red = df_red.melt(var_name=\"length\", value_name=\"fit\")\n",
    "df_red.insert(0, \"model\", \"reduced\")"
   ]
  },
  {
   "cell_type": "code",
   "execution_count": null,
   "metadata": {},
   "outputs": [],
   "source": [
    "out = Path(\"out\")\n",
    "\n",
    "ckpt_full = pickle.load(open(out / \"mc_full.p\", \"rb\"))\n",
    "#fit_best = np.copy(ckpt_full[\"fit_bfgs\"])\n",
    "#mask = (ckpt_full[\"fit_adam_tr\"] > ckpt_full[\"fit_bfgs_tr\"]) | (np.isnan(ckpt_full[\"fit_bfgs_tr\"]))\n",
    "#fit_best[mask] = ckpt_full[\"fit_adam\"][mask]\n",
    "\n",
    "df_full = pd.DataFrame(ckpt_full[\"fit_bfgs\"].T, columns=[str(l) for l in ckpt_full[\"train_lens\"]])\n",
    "df_full = df_full.melt(var_name=\"length\", value_name=\"fit\")\n",
    "df_full.insert(0, \"model\", \"full\")\n",
    "#df_full.dropna(inplace=True)\n",
    "#df_full.drop(df_full[df_full.fit < 0].index, inplace=True)\n",
    "\n",
    "\n",
    "df_mc = pd.concat((df_full, df_red), ignore_index=True)"
   ]
  },
  {
   "cell_type": "code",
   "execution_count": null,
   "metadata": {},
   "outputs": [],
   "source": [
    "#fit_best[mask], \n",
    "#ckpt_full[\"fit_bfgs\"][mask]"
   ]
  },
  {
   "cell_type": "code",
   "execution_count": null,
   "metadata": {},
   "outputs": [],
   "source": [
    "#ckpt_full[\"fit_adam\"][mask]"
   ]
  },
  {
   "cell_type": "code",
   "execution_count": null,
   "metadata": {},
   "outputs": [],
   "source": [
    "rms_y = 66.69 # 1e5 rmse of y \n",
    "fit_lin = 77.17 # fit of a linear baseline obtained with MATLAB's sysid toolbox\n",
    "rmse_lin = (1 - fit_lin/100.0) * rms_y # rmse of a linear baseline\n",
    "rmse_lin/1e5"
   ]
  },
  {
   "cell_type": "code",
   "execution_count": null,
   "metadata": {},
   "outputs": [],
   "source": [
    "df_mc[\"fit\"] = np.maximum(df_mc[\"fit\"], 0.0)\n",
    "\n",
    "df_mc[\"rmse\"] = (1 - df_mc[\"fit\"]/100.0) * rms_y"
   ]
  },
  {
   "cell_type": "code",
   "execution_count": null,
   "metadata": {},
   "outputs": [],
   "source": [
    "#tmp = df_mc[df_mc[\"fit\"] < 1].groupby([\"model\", \"length\"]).fit.count()\n",
    "#tmp[\"full (bfgs)\"]"
   ]
  },
  {
   "cell_type": "code",
   "execution_count": null,
   "metadata": {},
   "outputs": [],
   "source": [
    "model_labels = {\n",
    "#    \"full\": \"full parameterization\",\n",
    "#    \"reduced\": \"reduced parameterization\",\n",
    "    # Add more mappings as needed\n",
    "}\n",
    "model_order = [\"full\", \"reduced\"]\n",
    "\n",
    "plt.figure(figsize=(8, 4))\n",
    "ax = sns.boxplot(df_mc, x=\"length\", y=\"fit\", hue=\"model\")#, hue_order=[\"full\", \"reduced\"])\n",
    "plt.tight_layout()  # This adjusts the plot to ensure the legend fits\n",
    "plt.xticks(rotation=45)\n",
    "ax.set_xlabel(\"Training sequence length (-)\")\n",
    "ax.set_ylabel(\"Test FIT (%)\")\n",
    "ax.axhline(y=fit_lin, color=\"black\", linestyle=\"dotted\", alpha=0.5, label=\"LTI 40960 samples\")#, linewidth=0.5)\n",
    "ax.axhline(y=98.8, color=\"black\", linestyle=\"dashed\", alpha=0.5, label=\"Full-order 40960 samples\")#, linewidth=0.5)\n",
    "#plt.legend(bbox_to_anchor=(1.05, 1), loc='upper left', borderaxespad=0)\n",
    "plt.legend(loc='lower right')#, borderaxespad=0)\n",
    "plt.ylim([-5, 100])\n",
    "plt.tight_layout()\n",
    "plt.savefig(Path(\"fig\")/\"boxplot.pdf\")\n",
    "#plt.savefig(Path(\"fig\")/\"boxplot.png\")"
   ]
  },
  {
   "cell_type": "code",
   "execution_count": null,
   "metadata": {},
   "outputs": [],
   "source": [
    "ckpt_full.keys()"
   ]
  },
  {
   "cell_type": "code",
   "execution_count": null,
   "metadata": {},
   "outputs": [],
   "source": [
    "plt.figure()\n",
    "plt.title(\"Training time (hours)\")\n",
    "plt.plot(ckpt_full['train_lens'], ckpt_full['train_time']/60/24, \"*\", label=\"full (adam + BFGS)\")\n",
    "plt.plot(ckpt_red['train_lens'], ckpt_red['train_time']/60/24, \"*\", label=\"reduced\")\n",
    "\n",
    "#plt.plot(df_full_time.length, df_full_time.time_adam/60/24, \"*\", label=\"full (adam)\")\n",
    "plt.xlabel(\"Training sequence length (-)\")\n",
    "plt.ylabel(\"Time (hours)\")\n",
    "plt.legend();"
   ]
  }
 ],
 "metadata": {
  "kernelspec": {
   "display_name": "Python 3",
   "language": "python",
   "name": "python3"
  },
  "language_info": {
   "codemirror_mode": {
    "name": "ipython",
    "version": 3
   },
   "file_extension": ".py",
   "mimetype": "text/x-python",
   "name": "python",
   "nbconvert_exporter": "python",
   "pygments_lexer": "ipython3",
   "version": "3.10.12"
  }
 },
 "nbformat": 4,
 "nbformat_minor": 2
}
